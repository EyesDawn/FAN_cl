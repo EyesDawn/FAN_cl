{
 "cells": [
  {
   "cell_type": "code",
   "execution_count": 2,
   "id": "95b9a6dd-f2dd-4839-ba44-7bea8b74e4c6",
   "metadata": {},
   "outputs": [],
   "source": [
    "import sys\n",
    "sys.path.append('/notebooks/FAN')\n",
    "import torch\n",
    "import matplotlib.pyplot as plt\n",
    "from statsmodels.graphics.tsaplots import plot_acf, plot_pacf\n",
    "\n",
    "%load_ext autoreload\n",
    "%autoreload 2"
   ]
  },
  {
   "cell_type": "markdown",
   "id": "8c0b2ea5-b604-4f2a-8774-4fb21e2119cf",
   "metadata": {},
   "source": [
    "# 1 select K based on spectrum"
   ]
  },
  {
   "cell_type": "code",
   "execution_count": 4,
   "id": "e845d6aa-91fe-4202-bc81-7444f0ad2209",
   "metadata": {},
   "outputs": [
    {
     "name": "stdout",
     "output_type": "stream",
     "text": [
      "Using downloaded and verified file: /notebooks/FAN/data/traffic/traffic.txt.gz\n",
      "Extracting /notebooks/FAN/data/traffic/traffic.txt.gz to /notebooks/FAN/data/traffic\n"
     ]
    }
   ],
   "source": [
    "from torch_timeseries.data.scaler import MaxAbsScaler, StandarScaler\n",
    "from torch_timeseries.datasets import *\n",
    "import numpy as np\n",
    "import torch \n",
    "dataset = Traffic(root='/notebooks/FAN/data/') # ExchangeRate ETTm1 Traffic Electricity Weather\n",
    "scaler = StandarScaler()\n",
    "window = 96#    7*24*2\n",
    "dataloader = ChunkSequenceTimefeatureDataLoader(\n",
    "    dataset,\n",
    "    scaler,\n",
    "    window=window,# 4380*2,\n",
    "    horizon=1,\n",
    "    steps=window,\n",
    "    scale_in_train=False,\n",
    "    shuffle_train=True,\n",
    "    freq=\"h\",\n",
    "    batch_size=64,\n",
    "    train_ratio=0.7,\n",
    "    val_ratio=0.2,\n",
    "    num_worker=20,\n",
    "    uniform_eval=True\n",
    ")"
   ]
  },
  {
   "cell_type": "code",
   "execution_count": 5,
   "id": "5b8ea726-2a0f-4e8d-9548-5afde9259347",
   "metadata": {},
   "outputs": [],
   "source": [
    "train_batch_x = []\n",
    "train_batch_y = []\n",
    "\n",
    "for scaled_x, scaled_y,y, x_date_enc, y_date_enc in dataloader.train_loader:\n",
    "    train_batch_x.append(scaled_x)\n",
    "    \n",
    "train_batch_x = torch.concat(train_batch_x, 0)\n"
   ]
  },
  {
   "cell_type": "code",
   "execution_count": 7,
   "id": "8460ff20-86f9-4fab-8dda-ec0e18480dd7",
   "metadata": {},
   "outputs": [],
   "source": [
    "normed_train_fft = torch.fft.rfft(train_batch_x, dim=1)\n",
    "fft_mag_mean = normed_train_fft.abs().mean(0)\n",
    "fft_mag_std = normed_train_fft.abs().std(0)"
   ]
  },
  {
   "cell_type": "code",
   "execution_count": 8,
   "id": "f6ae9288-4e87-46fd-8c0c-737381ee254a",
   "metadata": {},
   "outputs": [
    {
     "data": {
      "text/plain": [
       "tensor(30)"
      ]
     },
     "execution_count": 8,
     "metadata": {},
     "output_type": "execute_result"
    }
   ],
   "source": [
    "K = sum(fft_mag_mean[:, 0] > 0.1*max(fft_mag_mean[:, 0]))\n",
    "K"
   ]
  },
  {
   "cell_type": "markdown",
   "id": "9954f4dd-4750-48ae-a84c-66d96a209d9e",
   "metadata": {},
   "source": [
    "# 2 data set metrics"
   ]
  },
  {
   "cell_type": "code",
   "execution_count": null,
   "id": "c5230272-59d1-4e21-8a3f-f20e99d39c8d",
   "metadata": {},
   "outputs": [],
   "source": []
  },
  {
   "cell_type": "markdown",
   "id": "e16a460a-e920-4934-a548-bba0e90f2dcc",
   "metadata": {},
   "source": [
    "## 2.1 Trend/seasonal variations"
   ]
  },
  {
   "cell_type": "code",
   "execution_count": 25,
   "id": "12743bfd-c939-4047-b5cf-9be3f3e695ff",
   "metadata": {},
   "outputs": [
    {
     "name": "stdout",
     "output_type": "stream",
     "text": [
      "Traffic trend variation: 0.06835729993310134\n",
      "Traffic seasonal variation: 14.225421047159246\n"
     ]
    }
   ],
   "source": [
    "from statsmodels.tsa.stattools import acf\n",
    "data = dataset.data[:, 0]\n",
    "print(\"Traffic trend variation:\",   abs(data[0:int(len(data)*0.7)].mean() -  data[-int(len(data)*0.3):].mean())/abs(data[0:int(len(data)*0.7)].mean()) )\n",
    "print(\"Traffic seasonal variation:\", sum( fft_mag_std[1:, 0] /fft_mag_mean[0, 0]).item())"
   ]
  },
  {
   "cell_type": "markdown",
   "id": "d8298f05-5c9c-4460-8186-571d9cb611ff",
   "metadata": {},
   "source": [
    "## 2.2  ADF test after normalization"
   ]
  },
  {
   "cell_type": "code",
   "execution_count": 9,
   "id": "c5750fa5-307b-4bc6-8fe4-e987b61ae76f",
   "metadata": {},
   "outputs": [],
   "source": [
    "\n",
    "data = dataloader.dataset.data\n",
    "N = len(data) // 96\n",
    "batch_x = data[:N*96, :].reshape(N, 96, -1)\n"
   ]
  },
  {
   "cell_type": "markdown",
   "id": "6621c0cf-83cf-4509-aacb-c743961f7182",
   "metadata": {},
   "source": [
    "### raw"
   ]
  },
  {
   "cell_type": "code",
   "execution_count": 11,
   "id": "1a7e1490-573f-446e-a8bb-69a5b2c73cf5",
   "metadata": {},
   "outputs": [
    {
     "name": "stderr",
     "output_type": "stream",
     "text": [
      "100%|██████████| 182/182 [00:01<00:00, 133.54it/s]\n"
     ]
    },
    {
     "data": {
      "text/plain": [
       "-4.620084081464585"
      ]
     },
     "execution_count": 11,
     "metadata": {},
     "output_type": "execute_result"
    }
   ],
   "source": [
    "from statsmodels.tsa.stattools import adfuller\n",
    "from tqdm import tqdm\n",
    "                                                                                                                                                                                                                     \n",
    "raw_results = []\n",
    "for i in tqdm(range(batch_x.shape[0])):\n",
    "    try:\n",
    "        result = adfuller(batch_x[i, :, 0])[0]\n",
    "    except:\n",
    "        continue\n",
    "    raw_results.append(result)\n",
    "\n",
    "raw_adf = np.mean(raw_results)\n",
    "raw_adf"
   ]
  },
  {
   "cell_type": "markdown",
   "id": "f7abb33c-609e-4936-b765-b2a72c228a5b",
   "metadata": {},
   "source": [
    "### RevIN"
   ]
  },
  {
   "cell_type": "code",
   "execution_count": 13,
   "id": "f46b938d-365d-4495-b604-2a57b448adba",
   "metadata": {},
   "outputs": [
    {
     "name": "stderr",
     "output_type": "stream",
     "text": [
      "100%|██████████| 182/182 [00:01<00:00, 180.25it/s]\n"
     ]
    },
    {
     "data": {
      "text/plain": [
       "-4.620084081464584"
      ]
     },
     "execution_count": 13,
     "metadata": {},
     "output_type": "execute_result"
    }
   ],
   "source": [
    "mean = torch.tensor(batch_x).mean(1, keepdim=True)\n",
    "std = torch.tensor(batch_x).std(1, keepdim=True)\n",
    "revin_batch_x = (torch.tensor(batch_x) - mean)/(std + 1e-14)\n",
    "\n",
    "revin_results = []\n",
    "for i in tqdm(range(revin_batch_x.shape[0])):\n",
    "    result = adfuller(revin_batch_x[i, :,0])[0]\n",
    "    revin_results.append(result)\n",
    "revin_adf = np.mean(revin_results)\n",
    "revin_adf\n"
   ]
  },
  {
   "cell_type": "code",
   "execution_count": null,
   "id": "6ff82707-3b37-4ccf-9b88-bdfed24a12a6",
   "metadata": {},
   "outputs": [],
   "source": []
  },
  {
   "cell_type": "markdown",
   "id": "56ca511c-473e-4538-83e6-3e14ddb3c301",
   "metadata": {},
   "source": [
    "### FAN"
   ]
  },
  {
   "cell_type": "code",
   "execution_count": 50,
   "id": "69dd5e0c-e076-49ed-9043-efbbedb08bed",
   "metadata": {},
   "outputs": [],
   "source": [
    "def main_freq_part(x, k):\n",
    "    # freq normalization\n",
    "    # start = time.time()\n",
    "    xf = torch.fft.rfft(x, dim=1)\n",
    "    k_values = torch.topk(xf.abs(), k, dim = 1)  \n",
    "    indices = k_values.indices\n",
    "\n",
    "\n",
    "    mask = torch.zeros_like(xf)\n",
    "    mask.scatter_(1, indices, 1)\n",
    "    xf_filtered = xf * mask\n",
    "    \n",
    "    x_filtered = torch.fft.irfft(xf_filtered, dim=1).real.float()\n",
    "    norm_input = x - x_filtered\n",
    "    # print(f\"decompose take:{ time.time() - start} s\")\n",
    "    return norm_input, x_filtered"
   ]
  },
  {
   "cell_type": "code",
   "execution_count": 51,
   "id": "c53422a1-7f18-4953-bb3f-d3b790f943fa",
   "metadata": {},
   "outputs": [
    {
     "name": "stderr",
     "output_type": "stream",
     "text": [
      "100%|██████████| 182/182 [00:00<00:00, 190.35it/s]"
     ]
    },
    {
     "name": "stdout",
     "output_type": "stream",
     "text": [
      "-11.787563374669954\n"
     ]
    },
    {
     "name": "stderr",
     "output_type": "stream",
     "text": [
      "\n"
     ]
    }
   ],
   "source": [
    "fan_batch_x, _ = main_freq_part(torch.tensor(batch_x), 24)\n",
    "fan_results = []\n",
    "for i in tqdm(range(fan_batch_x.shape[0])):\n",
    "    result = adfuller(fan_batch_x[i, :, 0])[0]\n",
    "    fan_results.append(result)\n",
    "fan_adf = np.mean(fan_results)\n",
    "print(fan_adf)"
   ]
  }
 ],
 "metadata": {
  "kernelspec": {
   "display_name": "Python [conda env:py38]",
   "language": "python",
   "name": "conda-env-py38-py"
  },
  "language_info": {
   "codemirror_mode": {
    "name": "ipython",
    "version": 3
   },
   "file_extension": ".py",
   "mimetype": "text/x-python",
   "name": "python",
   "nbconvert_exporter": "python",
   "pygments_lexer": "ipython3",
   "version": "3.8.16"
  }
 },
 "nbformat": 4,
 "nbformat_minor": 5
}
